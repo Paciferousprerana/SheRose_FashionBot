{
  "nbformat": 4,
  "nbformat_minor": 0,
  "metadata": {
    "colab": {
      "provenance": []
    },
    "kernelspec": {
      "name": "python3",
      "display_name": "Python 3"
    },
    "language_info": {
      "name": "python"
    }
  },
  "cells": [
    {
      "cell_type": "code",
      "source": [
        "! pip install fpdf2\n"
      ],
      "metadata": {
        "id": "4bB-mZq4Vem5",
        "outputId": "143463d6-acf7-411d-977f-dabd8b36705d",
        "colab": {
          "base_uri": "https://localhost:8080/"
        }
      },
      "execution_count": 5,
      "outputs": [
        {
          "output_type": "stream",
          "name": "stdout",
          "text": [
            "Collecting fpdf2\n",
            "  Downloading fpdf2-2.7.9-py2.py3-none-any.whl (206 kB)\n",
            "\u001b[?25l     \u001b[90m━━━━━━━━━━━━━━━━━━━━━━━━━━━━━━━━━━━━━━━━\u001b[0m \u001b[32m0.0/206.4 kB\u001b[0m \u001b[31m?\u001b[0m eta \u001b[36m-:--:--\u001b[0m\r\u001b[2K     \u001b[91m━━━━━━━━━━━━━━━━━━━━━━━\u001b[0m\u001b[91m╸\u001b[0m\u001b[90m━━━━━━━━━━━━━━━━\u001b[0m \u001b[32m122.9/206.4 kB\u001b[0m \u001b[31m3.5 MB/s\u001b[0m eta \u001b[36m0:00:01\u001b[0m\r\u001b[2K     \u001b[90m━━━━━━━━━━━━━━━━━━━━━━━━━━━━━━━━━━━━━━━━\u001b[0m \u001b[32m206.4/206.4 kB\u001b[0m \u001b[31m3.9 MB/s\u001b[0m eta \u001b[36m0:00:00\u001b[0m\n",
            "\u001b[?25hRequirement already satisfied: defusedxml in /usr/local/lib/python3.10/dist-packages (from fpdf2) (0.7.1)\n",
            "Requirement already satisfied: Pillow!=9.2.*,>=6.2.2 in /usr/local/lib/python3.10/dist-packages (from fpdf2) (9.4.0)\n",
            "Requirement already satisfied: fonttools>=4.34.0 in /usr/local/lib/python3.10/dist-packages (from fpdf2) (4.53.1)\n",
            "Installing collected packages: fpdf2\n",
            "Successfully installed fpdf2-2.7.9\n"
          ]
        }
      ]
    },
    {
      "cell_type": "code",
      "execution_count": 1,
      "metadata": {
        "colab": {
          "base_uri": "https://localhost:8080/"
        },
        "id": "5Tj7yHOyT6r6",
        "outputId": "772e735f-61fe-4414-d3eb-6eacd6e4347b"
      },
      "outputs": [
        {
          "output_type": "stream",
          "name": "stdout",
          "text": [
            "Top 5 Trending Hashtags:\n",
            "#Fashion: 74993\n",
            "#Style: 74993\n",
            "#Summerseason: 19789\n",
            "#Allseason: 18452\n",
            "#Springseason: 18395\n",
            "\n",
            "Top 5 Trending Brands:\n",
            "zara: 9935\n",
            "levis: 6782\n",
            "adidas: 6614\n",
            "Khadi india: 6569\n",
            "GreenCo: 6223\n"
          ]
        }
      ],
      "source": [
        "import random\n",
        "import csv\n",
        "from datetime import datetime, timedelta\n",
        "from collections import defaultdict\n",
        "\n",
        "# Sample data components\n",
        "usernames = [\"@Fashionista123\", \"@TrendyChic\", \"@EcoFashion\", \"@VintageVogue\", \"@AnkushBahuguna\",\"@Kushakapila\",\"@KomalPandey\"]\n",
        "profile_names = [\"Fashion Guru\", \"Trendy Chic\", \"Eco Fashion\", \"Vintage Vogue\", \"Ankush Bahuguna\",\"Kusha Kapila\",\"Komal Pandey\"]\n",
        "categories = [\"Summer season\", \"Winter season\", \"Spring season\", \"All season\"]\n",
        "brands = {\n",
        "    \"Summer season\": [\"nike\", \"aureali\", \"crocs\",\"zara\"],\n",
        "    \"Winter season\": [\"Vogue\", \"zara\", \"Roadroster\",\"H&M\"],\n",
        "    \"Spring season\": [\"Neelkamal\", \"Khadi india\", \"GreenCo\"],\n",
        "    \"All season\": [\"adidas\", \"Calvin Klein\", \"levis\"]\n",
        "}\n",
        "\n",
        "def fetch_trending_brand(category):\n",
        "    # Simulated function to fetch trending brands based on category\n",
        "    return random.choice(brands[category])\n",
        "\n",
        "def generate_random_timestamp():\n",
        "    start = datetime.now() - timedelta(days=30)\n",
        "    end = datetime.now()\n",
        "    return start + (end - start) * random.random()\n",
        "\n",
        "# Generate dummy tweets\n",
        "dummy_tweets = []\n",
        "trending_hashtags = defaultdict(int)\n",
        "trending_brands = defaultdict(int)\n",
        "\n",
        "for i in range(1000):  # Adjust the number of tweets needed\n",
        "    idx = random.randint(0, len(usernames) - 1)\n",
        "    category = random.choice(categories)\n",
        "    brand_name = fetch_trending_brand(category)\n",
        "    hashtags = f\"#{category.replace(' ', '')} #Fashion #Style\"\n",
        "    tweet = {\n",
        "        \"username\": usernames[idx],\n",
        "        \"profile_name\": profile_names[idx],\n",
        "        \"tweet_content\": f\"Loving the new {category} from {brand_name}! The colors are so vibrant. {hashtags}\",\n",
        "        \"category\": category,\n",
        "        \"brand_name\": brand_name,\n",
        "        \"hashtags\": hashtags,\n",
        "        \"mentions\": f\"@{brand_name.replace(' ', '')}\" if brand_name else \"\",\n",
        "        \"timestamp\": generate_random_timestamp().isoformat(),\n",
        "        \"retweets\": random.randint(0, 50),\n",
        "        \"likes\": random.randint(0, 100)\n",
        "    }\n",
        "    dummy_tweets.append(tweet)\n",
        "\n",
        "    # Update trending hashtags and brands based on likes and retweets\n",
        "    for hashtag in hashtags.split():\n",
        "        trending_hashtags[hashtag] += tweet[\"retweets\"] + tweet[\"likes\"]\n",
        "    if brand_name:\n",
        "        trending_brands[brand_name] += tweet[\"retweets\"] + tweet[\"likes\"]\n",
        "\n",
        "# Sort trending hashtags and brands by popularity (likes + retweets)\n",
        "trending_hashtags = sorted(trending_hashtags.items(), key=lambda x: x[1], reverse=True)[:5]\n",
        "trending_brands = sorted(trending_brands.items(), key=lambda x: x[1], reverse=True)[:5]\n",
        "\n",
        "# Print or use trending data\n",
        "print(\"Top 5 Trending Hashtags:\")\n",
        "for hashtag, count in trending_hashtags:\n",
        "    print(f\"{hashtag}: {count}\")\n",
        "\n",
        "print(\"\\nTop 5 Trending Brands:\")\n",
        "for brand, count in trending_brands:\n",
        "    print(f\"{brand}: {count}\")\n",
        "\n",
        "# Save to a CSV file\n",
        "with open(\"dummy_tweets.csv\", \"w\", newline='') as file:\n",
        "    writer = csv.DictWriter(file, fieldnames=[\"username\", \"profile_name\", \"tweet_content\", \"category\", \"brand_name\", \"hashtags\", \"mentions\", \"timestamp\", \"retweets\", \"likes\"])\n",
        "    writer.writeheader()\n",
        "    for tweet in dummy_tweets:\n",
        "        writer.writerow(tweet)\n"
      ]
    },
    {
      "cell_type": "code",
      "source": [
        "hashtag_text = ''\n",
        "print(\"Top 5 Trending Hashtags:\")\n",
        "for hashtag, count in trending_hashtags:\n",
        "    hashtag_text += f'{hashtag} is trending with {count} retweets. \\n'\n",
        "    print(hashtag_text)\n",
        "\n",
        "print('-'*100)\n",
        "\n",
        "brand_text = ''\n",
        "print(\"\\nTop 5 Trending Brands:\")\n",
        "for brand, count in trending_brands:\n",
        "    brand_text += f'brand {brand} is trending with {count} retweets. \\n'\n",
        "    print(brand_text)"
      ],
      "metadata": {
        "id": "ME-__CQhRP2E",
        "outputId": "181dd19b-40fd-44e3-e50c-5b9ae76f497b",
        "colab": {
          "base_uri": "https://localhost:8080/"
        }
      },
      "execution_count": 4,
      "outputs": [
        {
          "output_type": "stream",
          "name": "stdout",
          "text": [
            "Top 5 Trending Hashtags:\n",
            "#Fashion is trending with 74993 retweets. \n",
            "\n",
            "#Fashion is trending with 74993 retweets. \n",
            "#Style is trending with 74993 retweets. \n",
            "\n",
            "#Fashion is trending with 74993 retweets. \n",
            "#Style is trending with 74993 retweets. \n",
            "#Summerseason is trending with 19789 retweets. \n",
            "\n",
            "#Fashion is trending with 74993 retweets. \n",
            "#Style is trending with 74993 retweets. \n",
            "#Summerseason is trending with 19789 retweets. \n",
            "#Allseason is trending with 18452 retweets. \n",
            "\n",
            "#Fashion is trending with 74993 retweets. \n",
            "#Style is trending with 74993 retweets. \n",
            "#Summerseason is trending with 19789 retweets. \n",
            "#Allseason is trending with 18452 retweets. \n",
            "#Springseason is trending with 18395 retweets. \n",
            "\n",
            "----------------------------------------------------------------------------------------------------\n",
            "\n",
            "Top 5 Trending Brands:\n",
            "brand zara is trending with 9935 retweets. \n",
            "\n",
            "brand zara is trending with 9935 retweets. \n",
            "brand levis is trending with 6782 retweets. \n",
            "\n",
            "brand zara is trending with 9935 retweets. \n",
            "brand levis is trending with 6782 retweets. \n",
            "brand adidas is trending with 6614 retweets. \n",
            "\n",
            "brand zara is trending with 9935 retweets. \n",
            "brand levis is trending with 6782 retweets. \n",
            "brand adidas is trending with 6614 retweets. \n",
            "brand Khadi india is trending with 6569 retweets. \n",
            "\n",
            "brand zara is trending with 9935 retweets. \n",
            "brand levis is trending with 6782 retweets. \n",
            "brand adidas is trending with 6614 retweets. \n",
            "brand Khadi india is trending with 6569 retweets. \n",
            "brand GreenCo is trending with 6223 retweets. \n",
            "\n"
          ]
        }
      ]
    },
    {
      "cell_type": "code",
      "source": [
        "from fpdf import FPDF\n",
        "\n",
        "full_text = 'Trending Hashtags:\\n\\n' + hashtag_text + '\\n\\n\\nTrending Brands:\\n\\n' + brand_text\n",
        "\n",
        "# Function to generate PDF\n",
        "def generate_pdf(filename, text_content):\n",
        "    pdf = FPDF()\n",
        "    pdf.add_page()\n",
        "\n",
        "    # Title\n",
        "    pdf.set_font(\"Arial\", \"B\", 16)\n",
        "    pdf.cell(0, 10, \"Trending Hashtags and Brands\", ln=True, align=\"C\")\n",
        "\n",
        "    # Add some space\n",
        "    pdf.ln(10)\n",
        "\n",
        "    # Set the font for the text content\n",
        "    pdf.set_font(\"Arial\", size=12)\n",
        "\n",
        "    # Add the text content\n",
        "    pdf.multi_cell(0, 10, text_content)\n",
        "\n",
        "    # Save the PDF\n",
        "    pdf.output(filename)\n",
        "\n",
        "# Generate the PDF with the combined text content\n",
        "generate_pdf(\"socialMedia_trending_report.pdf\", full_text)\n"
      ],
      "metadata": {
        "id": "IYZ5FpeVUMSF",
        "outputId": "d1af627a-2695-4c86-8cb1-b10e75c555b2",
        "colab": {
          "base_uri": "https://localhost:8080/"
        }
      },
      "execution_count": 6,
      "outputs": [
        {
          "output_type": "stream",
          "name": "stderr",
          "text": [
            "<ipython-input-6-69f11df6d0b9>:11: DeprecationWarning: Substituting font arial by core font helvetica - This is deprecated since v2.7.8, and will soon be removed\n",
            "  pdf.set_font(\"Arial\", \"B\", 16)\n",
            "<ipython-input-6-69f11df6d0b9>:12: DeprecationWarning: The parameter \"ln\" is deprecated since v2.5.2. Instead of ln=True use new_x=XPos.LMARGIN, new_y=YPos.NEXT.\n",
            "  pdf.cell(0, 10, \"Trending Hashtags and Brands\", ln=True, align=\"C\")\n",
            "<ipython-input-6-69f11df6d0b9>:18: DeprecationWarning: Substituting font arial by core font helvetica - This is deprecated since v2.7.8, and will soon be removed\n",
            "  pdf.set_font(\"Arial\", size=12)\n"
          ]
        }
      ]
    },
    {
      "cell_type": "code",
      "source": [],
      "metadata": {
        "id": "fCYV7woUVsnM"
      },
      "execution_count": null,
      "outputs": []
    }
  ]
}